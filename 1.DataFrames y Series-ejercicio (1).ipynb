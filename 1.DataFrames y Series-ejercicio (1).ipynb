{
 "cells": [
  {
   "cell_type": "markdown",
   "metadata": {},
   "source": [
    "# Importar Pandas"
   ]
  },
  {
   "cell_type": "code",
   "execution_count": 16,
   "metadata": {},
   "outputs": [],
   "source": [
    "#importa pandas\n",
    "import pandas as pd"
   ]
  },
  {
   "cell_type": "markdown",
   "metadata": {},
   "source": [
    "# Crear una Serie"
   ]
  },
  {
   "cell_type": "markdown",
   "metadata": {},
   "source": [
    "Explore series en python en el siguiente [link](https://pandas.pydata.org/pandas-docs/stable/user_guide/10min.html) en las primeras lineas del documento"
   ]
  },
  {
   "cell_type": "code",
   "execution_count": 17,
   "metadata": {
    "tags": []
   },
   "outputs": [
    {
     "name": "stdout",
     "output_type": "stream",
     "text": [
      "0    10\n",
      "1    20\n",
      "2    10\n",
      "dtype: int64\n"
     ]
    }
   ],
   "source": [
    "# Crea una Serie de los numeros 10, 20 and 10.\n",
    "import pandas as pd\n",
    "\n",
    "numeros = [10, 20, 10]\n",
    "serie = pd.Series(numeros)\n",
    "\n",
    "print(serie)"
   ]
  },
  {
   "cell_type": "code",
   "execution_count": 19,
   "metadata": {
    "tags": []
   },
   "outputs": [
    {
     "name": "stdout",
     "output_type": "stream",
     "text": [
      "0     rojo\n",
      "1    verde\n",
      "2     azul\n",
      "dtype: object\n"
     ]
    }
   ],
   "source": [
    "# Crea una Serie con tres objetos: 'rojo', 'verde', 'azul'\n",
    "import pandas as pd\n",
    "\n",
    "colores = ['rojo', 'verde', 'azul']\n",
    "serie = pd.Series(colores)\n",
    "\n",
    "print(serie)"
   ]
  },
  {
   "cell_type": "markdown",
   "metadata": {},
   "source": [
    "# Crear un Dataframe"
   ]
  },
  {
   "cell_type": "code",
   "execution_count": null,
   "metadata": {
    "tags": []
   },
   "outputs": [],
   "source": [
    "# Crea un dataframe vacío llamado 'df'\n",
    "df = pd.Dataframe()"
   ]
  },
  {
   "cell_type": "code",
   "execution_count": 21,
   "metadata": {
    "tags": []
   },
   "outputs": [
    {
     "name": "stdout",
     "output_type": "stream",
     "text": [
      "  colores  numeros\n",
      "0    rojo       10\n",
      "1   verde       20\n",
      "2    azul       10\n"
     ]
    }
   ],
   "source": [
    "# Crea una nueva columna en el dataframe, y asignale la primera serie que has creado\n",
    "import pandas as pd\n",
    "\n",
    "# Crear la serie\n",
    "numeros = [10, 20, 10]\n",
    "serie = pd.Series(numeros)\n",
    "\n",
    "# Crear un DataFrame de ejemplo\n",
    "data = {'colores': ['rojo', 'verde', 'azul']}\n",
    "df = pd.DataFrame(data)\n",
    "\n",
    "# Asignar la serie a una nueva columna en el DataFrame\n",
    "df['numeros'] = serie\n",
    "\n",
    "# Imprimir el DataFrame resultante\n",
    "print(df)\n"
   ]
  },
  {
   "cell_type": "code",
   "execution_count": 3,
   "metadata": {
    "tags": []
   },
   "outputs": [
    {
     "name": "stdout",
     "output_type": "stream",
     "text": [
      "   numeros colores\n",
      "0       10    rojo\n",
      "1       20   verde\n",
      "2       10    azul\n"
     ]
    }
   ],
   "source": [
    "# Crea otra columna en el dataframe y asignale la segunda Serie que has creado\n",
    "import pandas as pd\n",
    "\n",
    "# Crear la segunda serie\n",
    "colores = ['rojo', 'verde', 'azul']\n",
    "serie_colores = pd.Series(colores)\n",
    "\n",
    "# Crear un DataFrame de ejemplo\n",
    "data = {'numeros': [10, 20, 10]}\n",
    "df = pd.DataFrame(data)\n",
    "\n",
    "# Asignar la serie de colores a una nueva columna en el DataFrame\n",
    "df['colores'] = serie_colores\n",
    "\n",
    "# Imprimir el DataFrame resultante\n",
    "print(df)\n"
   ]
  },
  {
   "cell_type": "markdown",
   "metadata": {},
   "source": [
    "# Leer un dataframe"
   ]
  },
  {
   "cell_type": "code",
   "execution_count": 10,
   "metadata": {
    "tags": []
   },
   "outputs": [],
   "source": [
    "# Lee el archivo llamado 'avengers.csv' localizado en la carpeta \"data\" y crea un DataFrame, llamado 'avengers'. \n",
    "\n",
    "import pandas as pd\n",
    "\n"
   ]
  },
  {
   "cell_type": "code",
   "execution_count": 13,
   "metadata": {},
   "outputs": [],
   "source": [
    "# Lee el archivo 'avengers.csv' desde la carpeta 'data' y crea el DataFrame 'avengers'\n",
    "\n",
    "df_avengers = pd.read_csv(r'C:\\Users\\Usuario\\Pictures\\phyton\\PRÁCTICA 5 ENTREGAR\\data\\src/avengers.csv')"
   ]
  },
  {
   "cell_type": "code",
   "execution_count": 14,
   "metadata": {},
   "outputs": [
    {
     "name": "stdout",
     "output_type": "stream",
     "text": [
      "                                                   URL  \\\n",
      "0        http://marvel.wikia.com/Henry_Pym_(Earth-616)   \n",
      "1    http://marvel.wikia.com/Janet_van_Dyne_(Earth-...   \n",
      "2    http://marvel.wikia.com/Anthony_Stark_(Earth-616)   \n",
      "3    http://marvel.wikia.com/Robert_Bruce_Banner_(E...   \n",
      "4     http://marvel.wikia.com/Thor_Odinson_(Earth-616)   \n",
      "..                                                 ...   \n",
      "168   http://marvel.wikia.com/Eric_Brooks_(Earth-616)#   \n",
      "169  http://marvel.wikia.com/Adam_Brashear_(Earth-6...   \n",
      "170  http://marvel.wikia.com/Victor_Alvarez_(Earth-...   \n",
      "171     http://marvel.wikia.com/Ava_Ayala_(Earth-616)#   \n",
      "172         http://marvel.wikia.com/Kaluu_(Earth-616)#   \n",
      "\n",
      "                          nombre  n_apariciones actual  genero  fecha_inicio  \\\n",
      "0      Henry Jonathan \"Hank\" Pym           1269    YES    MALE          1963   \n",
      "1                 Janet van Dyne           1165    YES  FEMALE          1963   \n",
      "2    Anthony Edward \"Tony\" Stark           3068    YES    MALE          1963   \n",
      "3            Robert Bruce Banner           2089    YES    MALE          1963   \n",
      "4                   Thor Odinson           2402    YES    MALE          1963   \n",
      "..                           ...            ...    ...     ...           ...   \n",
      "168                  Eric Brooks            198    YES    MALE          2013   \n",
      "169                Adam Brashear             29    YES    MALE          2014   \n",
      "170               Victor Alvarez             45    YES    MALE          2014   \n",
      "171                    Ava Ayala             49    YES  FEMALE          2014   \n",
      "172                        Kaluu             35    YES    MALE          2015   \n",
      "\n",
      "                                                 Notes  \n",
      "0    Merged with Ultron in Rage of Ultron Vol. 1. A...  \n",
      "1    Dies in Secret Invasion V1:I8. Actually was se...  \n",
      "2    Death: \"Later while under the influence of Imm...  \n",
      "3    Dies in Ghosts of the Future arc. However \"he ...  \n",
      "4    Dies in Fear Itself brought back because that'...  \n",
      "..                                                 ...  \n",
      "168                                                NaN  \n",
      "169                                                NaN  \n",
      "170                                                NaN  \n",
      "171                                                NaN  \n",
      "172                                                NaN  \n",
      "\n",
      "[173 rows x 7 columns]\n"
     ]
    }
   ],
   "source": [
    "print(df_avengers)"
   ]
  },
  {
   "cell_type": "markdown",
   "metadata": {},
   "source": [
    "# Inspeccionar un dataframe"
   ]
  },
  {
   "cell_type": "code",
   "execution_count": 15,
   "metadata": {
    "tags": []
   },
   "outputs": [
    {
     "data": {
      "text/html": [
       "<div>\n",
       "<style scoped>\n",
       "    .dataframe tbody tr th:only-of-type {\n",
       "        vertical-align: middle;\n",
       "    }\n",
       "\n",
       "    .dataframe tbody tr th {\n",
       "        vertical-align: top;\n",
       "    }\n",
       "\n",
       "    .dataframe thead th {\n",
       "        text-align: right;\n",
       "    }\n",
       "</style>\n",
       "<table border=\"1\" class=\"dataframe\">\n",
       "  <thead>\n",
       "    <tr style=\"text-align: right;\">\n",
       "      <th></th>\n",
       "      <th>URL</th>\n",
       "      <th>nombre</th>\n",
       "      <th>n_apariciones</th>\n",
       "      <th>actual</th>\n",
       "      <th>genero</th>\n",
       "      <th>fecha_inicio</th>\n",
       "      <th>Notes</th>\n",
       "    </tr>\n",
       "  </thead>\n",
       "  <tbody>\n",
       "    <tr>\n",
       "      <th>0</th>\n",
       "      <td>http://marvel.wikia.com/Henry_Pym_(Earth-616)</td>\n",
       "      <td>Henry Jonathan \"Hank\" Pym</td>\n",
       "      <td>1269</td>\n",
       "      <td>YES</td>\n",
       "      <td>MALE</td>\n",
       "      <td>1963</td>\n",
       "      <td>Merged with Ultron in Rage of Ultron Vol. 1. A...</td>\n",
       "    </tr>\n",
       "    <tr>\n",
       "      <th>1</th>\n",
       "      <td>http://marvel.wikia.com/Janet_van_Dyne_(Earth-...</td>\n",
       "      <td>Janet van Dyne</td>\n",
       "      <td>1165</td>\n",
       "      <td>YES</td>\n",
       "      <td>FEMALE</td>\n",
       "      <td>1963</td>\n",
       "      <td>Dies in Secret Invasion V1:I8. Actually was se...</td>\n",
       "    </tr>\n",
       "    <tr>\n",
       "      <th>2</th>\n",
       "      <td>http://marvel.wikia.com/Anthony_Stark_(Earth-616)</td>\n",
       "      <td>Anthony Edward \"Tony\" Stark</td>\n",
       "      <td>3068</td>\n",
       "      <td>YES</td>\n",
       "      <td>MALE</td>\n",
       "      <td>1963</td>\n",
       "      <td>Death: \"Later while under the influence of Imm...</td>\n",
       "    </tr>\n",
       "    <tr>\n",
       "      <th>3</th>\n",
       "      <td>http://marvel.wikia.com/Robert_Bruce_Banner_(E...</td>\n",
       "      <td>Robert Bruce Banner</td>\n",
       "      <td>2089</td>\n",
       "      <td>YES</td>\n",
       "      <td>MALE</td>\n",
       "      <td>1963</td>\n",
       "      <td>Dies in Ghosts of the Future arc. However \"he ...</td>\n",
       "    </tr>\n",
       "    <tr>\n",
       "      <th>4</th>\n",
       "      <td>http://marvel.wikia.com/Thor_Odinson_(Earth-616)</td>\n",
       "      <td>Thor Odinson</td>\n",
       "      <td>2402</td>\n",
       "      <td>YES</td>\n",
       "      <td>MALE</td>\n",
       "      <td>1963</td>\n",
       "      <td>Dies in Fear Itself brought back because that'...</td>\n",
       "    </tr>\n",
       "  </tbody>\n",
       "</table>\n",
       "</div>"
      ],
      "text/plain": [
       "                                                 URL  \\\n",
       "0      http://marvel.wikia.com/Henry_Pym_(Earth-616)   \n",
       "1  http://marvel.wikia.com/Janet_van_Dyne_(Earth-...   \n",
       "2  http://marvel.wikia.com/Anthony_Stark_(Earth-616)   \n",
       "3  http://marvel.wikia.com/Robert_Bruce_Banner_(E...   \n",
       "4   http://marvel.wikia.com/Thor_Odinson_(Earth-616)   \n",
       "\n",
       "                        nombre  n_apariciones actual  genero  fecha_inicio  \\\n",
       "0    Henry Jonathan \"Hank\" Pym           1269    YES    MALE          1963   \n",
       "1               Janet van Dyne           1165    YES  FEMALE          1963   \n",
       "2  Anthony Edward \"Tony\" Stark           3068    YES    MALE          1963   \n",
       "3          Robert Bruce Banner           2089    YES    MALE          1963   \n",
       "4                 Thor Odinson           2402    YES    MALE          1963   \n",
       "\n",
       "                                               Notes  \n",
       "0  Merged with Ultron in Rage of Ultron Vol. 1. A...  \n",
       "1  Dies in Secret Invasion V1:I8. Actually was se...  \n",
       "2  Death: \"Later while under the influence of Imm...  \n",
       "3  Dies in Ghosts of the Future arc. However \"he ...  \n",
       "4  Dies in Fear Itself brought back because that'...  "
      ]
     },
     "execution_count": 15,
     "metadata": {},
     "output_type": "execute_result"
    }
   ],
   "source": [
    "# Muestra las primeras 5 filas del DataFrame.\n",
    "\n",
    "df_avengers.head(5)"
   ]
  },
  {
   "cell_type": "code",
   "execution_count": 22,
   "metadata": {
    "tags": []
   },
   "outputs": [
    {
     "data": {
      "text/html": [
       "<div>\n",
       "<style scoped>\n",
       "    .dataframe tbody tr th:only-of-type {\n",
       "        vertical-align: middle;\n",
       "    }\n",
       "\n",
       "    .dataframe tbody tr th {\n",
       "        vertical-align: top;\n",
       "    }\n",
       "\n",
       "    .dataframe thead th {\n",
       "        text-align: right;\n",
       "    }\n",
       "</style>\n",
       "<table border=\"1\" class=\"dataframe\">\n",
       "  <thead>\n",
       "    <tr style=\"text-align: right;\">\n",
       "      <th></th>\n",
       "      <th>URL</th>\n",
       "      <th>nombre</th>\n",
       "      <th>n_apariciones</th>\n",
       "      <th>actual</th>\n",
       "      <th>genero</th>\n",
       "      <th>fecha_inicio</th>\n",
       "      <th>Notes</th>\n",
       "    </tr>\n",
       "  </thead>\n",
       "  <tbody>\n",
       "    <tr>\n",
       "      <th>0</th>\n",
       "      <td>http://marvel.wikia.com/Henry_Pym_(Earth-616)</td>\n",
       "      <td>Henry Jonathan \"Hank\" Pym</td>\n",
       "      <td>1269</td>\n",
       "      <td>YES</td>\n",
       "      <td>MALE</td>\n",
       "      <td>1963</td>\n",
       "      <td>Merged with Ultron in Rage of Ultron Vol. 1. A...</td>\n",
       "    </tr>\n",
       "    <tr>\n",
       "      <th>1</th>\n",
       "      <td>http://marvel.wikia.com/Janet_van_Dyne_(Earth-...</td>\n",
       "      <td>Janet van Dyne</td>\n",
       "      <td>1165</td>\n",
       "      <td>YES</td>\n",
       "      <td>FEMALE</td>\n",
       "      <td>1963</td>\n",
       "      <td>Dies in Secret Invasion V1:I8. Actually was se...</td>\n",
       "    </tr>\n",
       "    <tr>\n",
       "      <th>2</th>\n",
       "      <td>http://marvel.wikia.com/Anthony_Stark_(Earth-616)</td>\n",
       "      <td>Anthony Edward \"Tony\" Stark</td>\n",
       "      <td>3068</td>\n",
       "      <td>YES</td>\n",
       "      <td>MALE</td>\n",
       "      <td>1963</td>\n",
       "      <td>Death: \"Later while under the influence of Imm...</td>\n",
       "    </tr>\n",
       "    <tr>\n",
       "      <th>3</th>\n",
       "      <td>http://marvel.wikia.com/Robert_Bruce_Banner_(E...</td>\n",
       "      <td>Robert Bruce Banner</td>\n",
       "      <td>2089</td>\n",
       "      <td>YES</td>\n",
       "      <td>MALE</td>\n",
       "      <td>1963</td>\n",
       "      <td>Dies in Ghosts of the Future arc. However \"he ...</td>\n",
       "    </tr>\n",
       "    <tr>\n",
       "      <th>4</th>\n",
       "      <td>http://marvel.wikia.com/Thor_Odinson_(Earth-616)</td>\n",
       "      <td>Thor Odinson</td>\n",
       "      <td>2402</td>\n",
       "      <td>YES</td>\n",
       "      <td>MALE</td>\n",
       "      <td>1963</td>\n",
       "      <td>Dies in Fear Itself brought back because that'...</td>\n",
       "    </tr>\n",
       "    <tr>\n",
       "      <th>5</th>\n",
       "      <td>http://marvel.wikia.com/Richard_Jones_(Earth-616)</td>\n",
       "      <td>Richard Milhouse Jones</td>\n",
       "      <td>612</td>\n",
       "      <td>YES</td>\n",
       "      <td>MALE</td>\n",
       "      <td>1963</td>\n",
       "      <td>NaN</td>\n",
       "    </tr>\n",
       "    <tr>\n",
       "      <th>6</th>\n",
       "      <td>http://marvel.wikia.com/Steven_Rogers_(Earth-616)</td>\n",
       "      <td>Steven Rogers</td>\n",
       "      <td>3458</td>\n",
       "      <td>YES</td>\n",
       "      <td>MALE</td>\n",
       "      <td>1964</td>\n",
       "      <td>Dies at the end of Civil War. Later comes back.</td>\n",
       "    </tr>\n",
       "    <tr>\n",
       "      <th>7</th>\n",
       "      <td>http://marvel.wikia.com/Clint_Barton_(Earth-616)</td>\n",
       "      <td>Clinton Francis Barton</td>\n",
       "      <td>1456</td>\n",
       "      <td>YES</td>\n",
       "      <td>MALE</td>\n",
       "      <td>1965</td>\n",
       "      <td>Dies in exploding Kree ship in Averngers Vol. ...</td>\n",
       "    </tr>\n",
       "    <tr>\n",
       "      <th>8</th>\n",
       "      <td>http://marvel.wikia.com/Pietro_Maximoff_(Earth...</td>\n",
       "      <td>Pietro Maximoff</td>\n",
       "      <td>769</td>\n",
       "      <td>YES</td>\n",
       "      <td>MALE</td>\n",
       "      <td>1965</td>\n",
       "      <td>Dies in House of M Vol 1 Issue 7. Later comes ...</td>\n",
       "    </tr>\n",
       "    <tr>\n",
       "      <th>9</th>\n",
       "      <td>http://marvel.wikia.com/Wanda_Maximoff_(Earth-...</td>\n",
       "      <td>Wanda Maximoff</td>\n",
       "      <td>1214</td>\n",
       "      <td>YES</td>\n",
       "      <td>FEMALE</td>\n",
       "      <td>1965</td>\n",
       "      <td>Dies in Uncanny_Avengers_Vol_1_14. Later comes...</td>\n",
       "    </tr>\n",
       "  </tbody>\n",
       "</table>\n",
       "</div>"
      ],
      "text/plain": [
       "                                                 URL  \\\n",
       "0      http://marvel.wikia.com/Henry_Pym_(Earth-616)   \n",
       "1  http://marvel.wikia.com/Janet_van_Dyne_(Earth-...   \n",
       "2  http://marvel.wikia.com/Anthony_Stark_(Earth-616)   \n",
       "3  http://marvel.wikia.com/Robert_Bruce_Banner_(E...   \n",
       "4   http://marvel.wikia.com/Thor_Odinson_(Earth-616)   \n",
       "5  http://marvel.wikia.com/Richard_Jones_(Earth-616)   \n",
       "6  http://marvel.wikia.com/Steven_Rogers_(Earth-616)   \n",
       "7   http://marvel.wikia.com/Clint_Barton_(Earth-616)   \n",
       "8  http://marvel.wikia.com/Pietro_Maximoff_(Earth...   \n",
       "9  http://marvel.wikia.com/Wanda_Maximoff_(Earth-...   \n",
       "\n",
       "                        nombre  n_apariciones actual  genero  fecha_inicio  \\\n",
       "0    Henry Jonathan \"Hank\" Pym           1269    YES    MALE          1963   \n",
       "1               Janet van Dyne           1165    YES  FEMALE          1963   \n",
       "2  Anthony Edward \"Tony\" Stark           3068    YES    MALE          1963   \n",
       "3          Robert Bruce Banner           2089    YES    MALE          1963   \n",
       "4                 Thor Odinson           2402    YES    MALE          1963   \n",
       "5       Richard Milhouse Jones            612    YES    MALE          1963   \n",
       "6                Steven Rogers           3458    YES    MALE          1964   \n",
       "7       Clinton Francis Barton           1456    YES    MALE          1965   \n",
       "8              Pietro Maximoff            769    YES    MALE          1965   \n",
       "9               Wanda Maximoff           1214    YES  FEMALE          1965   \n",
       "\n",
       "                                               Notes  \n",
       "0  Merged with Ultron in Rage of Ultron Vol. 1. A...  \n",
       "1  Dies in Secret Invasion V1:I8. Actually was se...  \n",
       "2  Death: \"Later while under the influence of Imm...  \n",
       "3  Dies in Ghosts of the Future arc. However \"he ...  \n",
       "4  Dies in Fear Itself brought back because that'...  \n",
       "5                                                NaN  \n",
       "6    Dies at the end of Civil War. Later comes back.  \n",
       "7  Dies in exploding Kree ship in Averngers Vol. ...  \n",
       "8  Dies in House of M Vol 1 Issue 7. Later comes ...  \n",
       "9  Dies in Uncanny_Avengers_Vol_1_14. Later comes...  "
      ]
     },
     "execution_count": 22,
     "metadata": {},
     "output_type": "execute_result"
    }
   ],
   "source": [
    "# Muestra las primeras 10 filas del DataFrame. \n",
    "df_avengers.head(10)"
   ]
  },
  {
   "cell_type": "code",
   "execution_count": 25,
   "metadata": {
    "tags": []
   },
   "outputs": [
    {
     "data": {
      "text/html": [
       "<div>\n",
       "<style scoped>\n",
       "    .dataframe tbody tr th:only-of-type {\n",
       "        vertical-align: middle;\n",
       "    }\n",
       "\n",
       "    .dataframe tbody tr th {\n",
       "        vertical-align: top;\n",
       "    }\n",
       "\n",
       "    .dataframe thead th {\n",
       "        text-align: right;\n",
       "    }\n",
       "</style>\n",
       "<table border=\"1\" class=\"dataframe\">\n",
       "  <thead>\n",
       "    <tr style=\"text-align: right;\">\n",
       "      <th></th>\n",
       "      <th>URL</th>\n",
       "      <th>nombre</th>\n",
       "      <th>n_apariciones</th>\n",
       "      <th>actual</th>\n",
       "      <th>genero</th>\n",
       "      <th>fecha_inicio</th>\n",
       "      <th>Notes</th>\n",
       "    </tr>\n",
       "  </thead>\n",
       "  <tbody>\n",
       "    <tr>\n",
       "      <th>168</th>\n",
       "      <td>http://marvel.wikia.com/Eric_Brooks_(Earth-616)#</td>\n",
       "      <td>Eric Brooks</td>\n",
       "      <td>198</td>\n",
       "      <td>YES</td>\n",
       "      <td>MALE</td>\n",
       "      <td>2013</td>\n",
       "      <td>NaN</td>\n",
       "    </tr>\n",
       "    <tr>\n",
       "      <th>169</th>\n",
       "      <td>http://marvel.wikia.com/Adam_Brashear_(Earth-6...</td>\n",
       "      <td>Adam Brashear</td>\n",
       "      <td>29</td>\n",
       "      <td>YES</td>\n",
       "      <td>MALE</td>\n",
       "      <td>2014</td>\n",
       "      <td>NaN</td>\n",
       "    </tr>\n",
       "    <tr>\n",
       "      <th>170</th>\n",
       "      <td>http://marvel.wikia.com/Victor_Alvarez_(Earth-...</td>\n",
       "      <td>Victor Alvarez</td>\n",
       "      <td>45</td>\n",
       "      <td>YES</td>\n",
       "      <td>MALE</td>\n",
       "      <td>2014</td>\n",
       "      <td>NaN</td>\n",
       "    </tr>\n",
       "    <tr>\n",
       "      <th>171</th>\n",
       "      <td>http://marvel.wikia.com/Ava_Ayala_(Earth-616)#</td>\n",
       "      <td>Ava Ayala</td>\n",
       "      <td>49</td>\n",
       "      <td>YES</td>\n",
       "      <td>FEMALE</td>\n",
       "      <td>2014</td>\n",
       "      <td>NaN</td>\n",
       "    </tr>\n",
       "    <tr>\n",
       "      <th>172</th>\n",
       "      <td>http://marvel.wikia.com/Kaluu_(Earth-616)#</td>\n",
       "      <td>Kaluu</td>\n",
       "      <td>35</td>\n",
       "      <td>YES</td>\n",
       "      <td>MALE</td>\n",
       "      <td>2015</td>\n",
       "      <td>NaN</td>\n",
       "    </tr>\n",
       "  </tbody>\n",
       "</table>\n",
       "</div>"
      ],
      "text/plain": [
       "                                                   URL          nombre  \\\n",
       "168   http://marvel.wikia.com/Eric_Brooks_(Earth-616)#     Eric Brooks   \n",
       "169  http://marvel.wikia.com/Adam_Brashear_(Earth-6...   Adam Brashear   \n",
       "170  http://marvel.wikia.com/Victor_Alvarez_(Earth-...  Victor Alvarez   \n",
       "171     http://marvel.wikia.com/Ava_Ayala_(Earth-616)#       Ava Ayala   \n",
       "172         http://marvel.wikia.com/Kaluu_(Earth-616)#           Kaluu   \n",
       "\n",
       "     n_apariciones actual  genero  fecha_inicio Notes  \n",
       "168            198    YES    MALE          2013   NaN  \n",
       "169             29    YES    MALE          2014   NaN  \n",
       "170             45    YES    MALE          2014   NaN  \n",
       "171             49    YES  FEMALE          2014   NaN  \n",
       "172             35    YES    MALE          2015   NaN  "
      ]
     },
     "execution_count": 25,
     "metadata": {},
     "output_type": "execute_result"
    }
   ],
   "source": [
    "# Muestra las últimas 5 filas del DataFrame.\n",
    "\n",
    "df_avengers.tail(5)"
   ]
  },
  {
   "cell_type": "markdown",
   "metadata": {},
   "source": [
    "# Tamaño del DataFrame"
   ]
  },
  {
   "cell_type": "code",
   "execution_count": 26,
   "metadata": {
    "tags": []
   },
   "outputs": [
    {
     "name": "stdout",
     "output_type": "stream",
     "text": [
      "Número de filas: 173\n",
      "Número de columnas: 7\n"
     ]
    }
   ],
   "source": [
    "# Muestra el tamaño del DataFrame\n",
    "\n",
    "tamaño = df_avengers.shape\n",
    "print(\"Número de filas:\", tamaño[0])\n",
    "print(\"Número de columnas:\", tamaño[1])\n"
   ]
  },
  {
   "cell_type": "markdown",
   "metadata": {},
   "source": [
    "# Data types en un DataFrame"
   ]
  },
  {
   "cell_type": "code",
   "execution_count": 27,
   "metadata": {
    "tags": []
   },
   "outputs": [
    {
     "name": "stdout",
     "output_type": "stream",
     "text": [
      "URL              object\n",
      "nombre           object\n",
      "n_apariciones     int64\n",
      "actual           object\n",
      "genero           object\n",
      "fecha_inicio      int64\n",
      "Notes            object\n",
      "dtype: object\n"
     ]
    }
   ],
   "source": [
    "# Muestra los data types del dataframe\n",
    "data_types = df_avengers.dtypes\n",
    "print(data_types)"
   ]
  },
  {
   "cell_type": "markdown",
   "metadata": {},
   "source": [
    "# Editar el indice (index)"
   ]
  },
  {
   "cell_type": "code",
   "execution_count": 28,
   "metadata": {
    "tags": []
   },
   "outputs": [
    {
     "name": "stdout",
     "output_type": "stream",
     "text": [
      "                                                            URL  \\\n",
      "fecha_inicio                                                      \n",
      "1963              http://marvel.wikia.com/Henry_Pym_(Earth-616)   \n",
      "1963          http://marvel.wikia.com/Janet_van_Dyne_(Earth-...   \n",
      "1963          http://marvel.wikia.com/Anthony_Stark_(Earth-616)   \n",
      "1963          http://marvel.wikia.com/Robert_Bruce_Banner_(E...   \n",
      "1963           http://marvel.wikia.com/Thor_Odinson_(Earth-616)   \n",
      "...                                                         ...   \n",
      "2013           http://marvel.wikia.com/Eric_Brooks_(Earth-616)#   \n",
      "2014          http://marvel.wikia.com/Adam_Brashear_(Earth-6...   \n",
      "2014          http://marvel.wikia.com/Victor_Alvarez_(Earth-...   \n",
      "2014             http://marvel.wikia.com/Ava_Ayala_(Earth-616)#   \n",
      "2015                 http://marvel.wikia.com/Kaluu_(Earth-616)#   \n",
      "\n",
      "                                   nombre  n_apariciones actual  genero  \\\n",
      "fecha_inicio                                                              \n",
      "1963            Henry Jonathan \"Hank\" Pym           1269    YES    MALE   \n",
      "1963                       Janet van Dyne           1165    YES  FEMALE   \n",
      "1963          Anthony Edward \"Tony\" Stark           3068    YES    MALE   \n",
      "1963                  Robert Bruce Banner           2089    YES    MALE   \n",
      "1963                         Thor Odinson           2402    YES    MALE   \n",
      "...                                   ...            ...    ...     ...   \n",
      "2013                          Eric Brooks            198    YES    MALE   \n",
      "2014                        Adam Brashear             29    YES    MALE   \n",
      "2014                       Victor Alvarez             45    YES    MALE   \n",
      "2014                            Ava Ayala             49    YES  FEMALE   \n",
      "2015                                Kaluu             35    YES    MALE   \n",
      "\n",
      "                                                          Notes  \n",
      "fecha_inicio                                                     \n",
      "1963          Merged with Ultron in Rage of Ultron Vol. 1. A...  \n",
      "1963          Dies in Secret Invasion V1:I8. Actually was se...  \n",
      "1963          Death: \"Later while under the influence of Imm...  \n",
      "1963          Dies in Ghosts of the Future arc. However \"he ...  \n",
      "1963          Dies in Fear Itself brought back because that'...  \n",
      "...                                                         ...  \n",
      "2013                                                        NaN  \n",
      "2014                                                        NaN  \n",
      "2014                                                        NaN  \n",
      "2014                                                        NaN  \n",
      "2015                                                        NaN  \n",
      "\n",
      "[173 rows x 6 columns]\n"
     ]
    }
   ],
   "source": [
    "# Cambia el indice a la columna \"fecha_inicio\".\n",
    "\n",
    "df_avengers.set_index(\"fecha_inicio\", inplace=True)\n",
    "\n",
    "# Mostrar el DataFrame con el nuevo índice\n",
    "print(df_avengers)"
   ]
  },
  {
   "cell_type": "markdown",
   "metadata": {},
   "source": [
    "# Ordenar el indice"
   ]
  },
  {
   "cell_type": "code",
   "execution_count": 29,
   "metadata": {
    "tags": []
   },
   "outputs": [
    {
     "name": "stdout",
     "output_type": "stream",
     "text": [
      "                                                            URL  \\\n",
      "fecha_inicio                                                      \n",
      "2015                 http://marvel.wikia.com/Kaluu_(Earth-616)#   \n",
      "2015          http://marvel.wikia.com/Sam_Alexander_(Earth-6...   \n",
      "2014             http://marvel.wikia.com/Ava_Ayala_(Earth-616)#   \n",
      "2014          http://marvel.wikia.com/Victor_Alvarez_(Earth-...   \n",
      "2014          http://marvel.wikia.com/Adam_Brashear_(Earth-6...   \n",
      "...                                                         ...   \n",
      "1900          http://marvel.wikia.com/Emery_Schaub_(Earth-616)#   \n",
      "1900          http://marvel.wikia.com/James_Santini_(Earth-6...   \n",
      "1900          http://marvel.wikia.com/Elvin_Haliday_(Earth-6...   \n",
      "1900          http://marvel.wikia.com/William_Baker_(Earth-6...   \n",
      "1900           http://marvel.wikia.com/Julie_Power_(Earth-616)#   \n",
      "\n",
      "                      nombre  n_apariciones actual  genero  \\\n",
      "fecha_inicio                                                 \n",
      "2015                   Kaluu             35    YES    MALE   \n",
      "2015           Sam Alexander             78    YES    MALE   \n",
      "2014               Ava Ayala             49    YES  FEMALE   \n",
      "2014          Victor Alvarez             45    YES    MALE   \n",
      "2014           Adam Brashear             29    YES    MALE   \n",
      "...                      ...            ...    ...     ...   \n",
      "1900            Emery Schaub             26    YES    MALE   \n",
      "1900           James Santini             40    YES    MALE   \n",
      "1900           Elvin Haliday            158     NO    MALE   \n",
      "1900           William Baker            355     NO    MALE   \n",
      "1900             Julie Power            153    YES  FEMALE   \n",
      "\n",
      "                                                          Notes  \n",
      "fecha_inicio                                                     \n",
      "2015                                                        NaN  \n",
      "2015                                                        NaN  \n",
      "2014                                                        NaN  \n",
      "2014                                                        NaN  \n",
      "2014                                                        NaN  \n",
      "...                                                         ...  \n",
      "1900                                                        NaN  \n",
      "1900                                                        NaN  \n",
      "1900                                                        NaN  \n",
      "1900          Died in Identity_Disc_Vol_1_1. Later was revea...  \n",
      "1900                                                        NaN  \n",
      "\n",
      "[173 rows x 6 columns]\n"
     ]
    }
   ],
   "source": [
    "# Ordena el índice de forma descendiente\n",
    "df_avengers.sort_index(ascending=False, inplace=True)\n",
    "\n",
    "# Mostrar el DataFrame con el índice ordenado en orden descendente\n",
    "print(df_avengers)\n"
   ]
  },
  {
   "cell_type": "markdown",
   "metadata": {},
   "source": [
    "# Resetear el indice"
   ]
  },
  {
   "cell_type": "code",
   "execution_count": 31,
   "metadata": {
    "tags": []
   },
   "outputs": [
    {
     "name": "stdout",
     "output_type": "stream",
     "text": [
      "     fecha_inicio                                                URL  \\\n",
      "0            2015         http://marvel.wikia.com/Kaluu_(Earth-616)#   \n",
      "1            2015  http://marvel.wikia.com/Sam_Alexander_(Earth-6...   \n",
      "2            2014     http://marvel.wikia.com/Ava_Ayala_(Earth-616)#   \n",
      "3            2014  http://marvel.wikia.com/Victor_Alvarez_(Earth-...   \n",
      "4            2014  http://marvel.wikia.com/Adam_Brashear_(Earth-6...   \n",
      "..            ...                                                ...   \n",
      "168          1900  http://marvel.wikia.com/Emery_Schaub_(Earth-616)#   \n",
      "169          1900  http://marvel.wikia.com/James_Santini_(Earth-6...   \n",
      "170          1900  http://marvel.wikia.com/Elvin_Haliday_(Earth-6...   \n",
      "171          1900  http://marvel.wikia.com/William_Baker_(Earth-6...   \n",
      "172          1900   http://marvel.wikia.com/Julie_Power_(Earth-616)#   \n",
      "\n",
      "             nombre  n_apariciones actual  genero  \\\n",
      "0             Kaluu             35    YES    MALE   \n",
      "1     Sam Alexander             78    YES    MALE   \n",
      "2         Ava Ayala             49    YES  FEMALE   \n",
      "3    Victor Alvarez             45    YES    MALE   \n",
      "4     Adam Brashear             29    YES    MALE   \n",
      "..              ...            ...    ...     ...   \n",
      "168    Emery Schaub             26    YES    MALE   \n",
      "169   James Santini             40    YES    MALE   \n",
      "170   Elvin Haliday            158     NO    MALE   \n",
      "171   William Baker            355     NO    MALE   \n",
      "172     Julie Power            153    YES  FEMALE   \n",
      "\n",
      "                                                 Notes  \n",
      "0                                                  NaN  \n",
      "1                                                  NaN  \n",
      "2                                                  NaN  \n",
      "3                                                  NaN  \n",
      "4                                                  NaN  \n",
      "..                                                 ...  \n",
      "168                                                NaN  \n",
      "169                                                NaN  \n",
      "170                                                NaN  \n",
      "171  Died in Identity_Disc_Vol_1_1. Later was revea...  \n",
      "172                                                NaN  \n",
      "\n",
      "[173 rows x 7 columns]\n"
     ]
    }
   ],
   "source": [
    "# Resetea el índice\n",
    "\n",
    "df_avengers = df_avengers.reset_index()\n",
    "\n",
    "print(df_avengers)"
   ]
  }
 ],
 "metadata": {
  "kernelspec": {
   "display_name": "Python 3 (ipykernel)",
   "language": "python",
   "name": "python3"
  },
  "language_info": {
   "codemirror_mode": {
    "name": "ipython",
    "version": 3
   },
   "file_extension": ".py",
   "mimetype": "text/x-python",
   "name": "python",
   "nbconvert_exporter": "python",
   "pygments_lexer": "ipython3",
   "version": "3.11.5"
  }
 },
 "nbformat": 4,
 "nbformat_minor": 4
}
