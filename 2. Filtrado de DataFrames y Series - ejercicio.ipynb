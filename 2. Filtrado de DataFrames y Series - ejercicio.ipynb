{
 "cells": [
  {
   "cell_type": "markdown",
   "metadata": {
    "id": "QFRdsO7aJRhd"
   },
   "source": [
    "# Ejercicio - Busqueda de Alojamiento en Airbnb.\n",
    "\n",
    "Supongamos que somos un agente de [Airbnb](http://www.airbnb.com) localizado en Lisboa, y tenemos que atender peticiones de varios clientes. Tenemos un archivo llamado `airbnb.csv` (en la carpeta data) donde tenemos información de todos los alojamientos de Airbnb en Lisboa."
   ]
  },
  {
   "cell_type": "code",
   "execution_count": 5,
   "metadata": {
    "id": "DjibxhdiJRhj"
   },
   "outputs": [],
   "source": [
    "import pandas as pd"
   ]
  },
  {
   "cell_type": "code",
   "execution_count": 6,
   "metadata": {},
   "outputs": [],
   "source": [
    "\n",
    "df_airbnb = pd.read_csv(r\"C:\\Users\\Usuario\\Pictures\\phyton\\PRÁCTICA 5 ENTREGAR\\data\\src/airbnb.csv\")"
   ]
  },
  {
   "cell_type": "code",
   "execution_count": 7,
   "metadata": {
    "id": "fpwgf0b6JRhl",
    "outputId": "aa85991b-0216-4cf2-839f-7aa61c31df32"
   },
   "outputs": [
    {
     "data": {
      "text/html": [
       "<div>\n",
       "<style scoped>\n",
       "    .dataframe tbody tr th:only-of-type {\n",
       "        vertical-align: middle;\n",
       "    }\n",
       "\n",
       "    .dataframe tbody tr th {\n",
       "        vertical-align: top;\n",
       "    }\n",
       "\n",
       "    .dataframe thead th {\n",
       "        text-align: right;\n",
       "    }\n",
       "</style>\n",
       "<table border=\"1\" class=\"dataframe\">\n",
       "  <thead>\n",
       "    <tr style=\"text-align: right;\">\n",
       "      <th></th>\n",
       "      <th>room_id</th>\n",
       "      <th>host_id</th>\n",
       "      <th>room_type</th>\n",
       "      <th>neighborhood</th>\n",
       "      <th>reviews</th>\n",
       "      <th>overall_satisfaction</th>\n",
       "      <th>accommodates</th>\n",
       "      <th>bedrooms</th>\n",
       "      <th>price</th>\n",
       "    </tr>\n",
       "  </thead>\n",
       "  <tbody>\n",
       "    <tr>\n",
       "      <th>0</th>\n",
       "      <td>6499</td>\n",
       "      <td>14455</td>\n",
       "      <td>Entire home/apt</td>\n",
       "      <td>Belém</td>\n",
       "      <td>8</td>\n",
       "      <td>5.0</td>\n",
       "      <td>2</td>\n",
       "      <td>1.0</td>\n",
       "      <td>57.0</td>\n",
       "    </tr>\n",
       "    <tr>\n",
       "      <th>1</th>\n",
       "      <td>17031</td>\n",
       "      <td>66015</td>\n",
       "      <td>Entire home/apt</td>\n",
       "      <td>Alvalade</td>\n",
       "      <td>0</td>\n",
       "      <td>0.0</td>\n",
       "      <td>2</td>\n",
       "      <td>1.0</td>\n",
       "      <td>46.0</td>\n",
       "    </tr>\n",
       "    <tr>\n",
       "      <th>2</th>\n",
       "      <td>25659</td>\n",
       "      <td>107347</td>\n",
       "      <td>Entire home/apt</td>\n",
       "      <td>Santa Maria Maior</td>\n",
       "      <td>63</td>\n",
       "      <td>5.0</td>\n",
       "      <td>3</td>\n",
       "      <td>1.0</td>\n",
       "      <td>69.0</td>\n",
       "    </tr>\n",
       "    <tr>\n",
       "      <th>3</th>\n",
       "      <td>29248</td>\n",
       "      <td>125768</td>\n",
       "      <td>Entire home/apt</td>\n",
       "      <td>Santa Maria Maior</td>\n",
       "      <td>225</td>\n",
       "      <td>4.5</td>\n",
       "      <td>4</td>\n",
       "      <td>1.0</td>\n",
       "      <td>58.0</td>\n",
       "    </tr>\n",
       "    <tr>\n",
       "      <th>4</th>\n",
       "      <td>29396</td>\n",
       "      <td>126415</td>\n",
       "      <td>Entire home/apt</td>\n",
       "      <td>Santa Maria Maior</td>\n",
       "      <td>132</td>\n",
       "      <td>5.0</td>\n",
       "      <td>4</td>\n",
       "      <td>1.0</td>\n",
       "      <td>67.0</td>\n",
       "    </tr>\n",
       "  </tbody>\n",
       "</table>\n",
       "</div>"
      ],
      "text/plain": [
       "   room_id  host_id        room_type       neighborhood  reviews  \\\n",
       "0     6499    14455  Entire home/apt              Belém        8   \n",
       "1    17031    66015  Entire home/apt           Alvalade        0   \n",
       "2    25659   107347  Entire home/apt  Santa Maria Maior       63   \n",
       "3    29248   125768  Entire home/apt  Santa Maria Maior      225   \n",
       "4    29396   126415  Entire home/apt  Santa Maria Maior      132   \n",
       "\n",
       "   overall_satisfaction  accommodates  bedrooms  price  \n",
       "0                   5.0             2       1.0   57.0  \n",
       "1                   0.0             2       1.0   46.0  \n",
       "2                   5.0             3       1.0   69.0  \n",
       "3                   4.5             4       1.0   58.0  \n",
       "4                   5.0             4       1.0   67.0  "
      ]
     },
     "execution_count": 7,
     "metadata": {},
     "output_type": "execute_result"
    }
   ],
   "source": [
    "df_airbnb.head()"
   ]
  },
  {
   "cell_type": "code",
   "execution_count": 8,
   "metadata": {
    "id": "f4ThNafjJRhm",
    "outputId": "11807043-94f1-44bb-d619-676b069ea776"
   },
   "outputs": [
    {
     "data": {
      "text/plain": [
       "room_id                   int64\n",
       "host_id                   int64\n",
       "room_type                object\n",
       "neighborhood             object\n",
       "reviews                   int64\n",
       "overall_satisfaction    float64\n",
       "accommodates              int64\n",
       "bedrooms                float64\n",
       "price                   float64\n",
       "dtype: object"
      ]
     },
     "execution_count": 8,
     "metadata": {},
     "output_type": "execute_result"
    }
   ],
   "source": [
    "df_airbnb.dtypes"
   ]
  },
  {
   "cell_type": "markdown",
   "metadata": {
    "id": "qHp3aDXZJRhn"
   },
   "source": [
    "En concreto el dataset tiene las siguientes variables:\n",
    "- room_id: el identificador de la propiedad\n",
    "- host_id: el identificador del dueño de la propiedad\n",
    "- room_type: tipo de propiedad (vivienda completa/(habitacion para compartir/habitación privada)\n",
    "- neighborhood: el barrio de Lisboa\n",
    "- reviews: El numero de opiniones\n",
    "- overall_satisfaction: Puntuacion media del apartamento\n",
    "- accommodates: El numero de personas que se pueden alojar en la propiedad\n",
    "- bedrooms: El número de habitaciones\n",
    "- price: El precio (en euros) por noche"
   ]
  },
  {
   "cell_type": "markdown",
   "metadata": {
    "id": "FytFtWUsJRho"
   },
   "source": [
    "## Usando Pandas"
   ]
  },
  {
   "cell_type": "markdown",
   "metadata": {
    "id": "ugPnas8EJRhp"
   },
   "source": [
    "### Caso 1.\n",
    "\n",
    "Alicia va a ir a Lisboa durante una semana con su marido y sus 2 hijos. Están buscando un apartamento con habitaciones separadas para los padres y los hijos. No les importa donde alojarse o el precio, simplemente quieren tener una experiencia agradable. Esto significa que solo aceptan lugares con más de 10 críticas con una puntuación mayor de 4. Cuando seleccionemos habitaciones para Alicia, tenemos que asegurarnos de ordenar las habitaciones de mejor a peor puntuación. Para aquellas habitaciones que tienen la misma puntuación, debemos mostrar antes aquellas con más críticas. Debemos darle 3 alternativas."
   ]
  },
  {
   "cell_type": "code",
   "execution_count": 12,
   "metadata": {
    "id": "2Bb-BJ5_JRhq"
   },
   "outputs": [
    {
     "name": "stdout",
     "output_type": "stream",
     "text": [
      "     room_id        room_type       neighborhood  overall_satisfaction  \\\n",
      "120   176153  Entire home/apt       Misericórdia                   5.0   \n",
      "16     44043  Entire home/apt  Santa Maria Maior                   5.0   \n",
      "140   202150  Entire home/apt  Santa Maria Maior                   5.0   \n",
      "\n",
      "     reviews  price  \n",
      "120      438  102.0  \n",
      "16       316   80.0  \n",
      "140      274   62.0  \n"
     ]
    }
   ],
   "source": [
    "# Consejo: para mostrar 3 alternativas emplee head(3)\n",
    "\n",
    "# Filtrar las habitaciones adecuadas para Alicia\n",
    "filtered_df = df_airbnb[(df_airbnb['accommodates'] >= 4) & (df_airbnb['bedrooms'] >= 2) & (df_airbnb['reviews'] > 10) & (df_airbnb['overall_satisfaction'] > 4)]\n",
    "\n",
    "# Ordenar las habitaciones por puntuación y luego por número de críticas\n",
    "sorted_df = filtered_df.sort_values(by=['overall_satisfaction', 'reviews'], ascending=[False, False])\n",
    "\n",
    "# Obtener las tres mejores alternativas\n",
    "top_3_alternatives = sorted_df.head(3)\n",
    "\n",
    "# Mostrar las alternativas a Alicia\n",
    "print(top_3_alternatives[['room_id', 'room_type', 'neighborhood', 'overall_satisfaction', 'reviews', 'price']])\n"
   ]
  },
  {
   "cell_type": "markdown",
   "metadata": {
    "id": "sEtivcU_JRhq"
   },
   "source": [
    "### Caso 2\n",
    "\n",
    "Roberto es un casero que tiene una casa en Airbnb. De vez en cuando nos llama preguntando sobre cuales son las críticas de su alojamiento. Hoy está particularmente enfadado, ya que su hermana Clara ha puesto una casa en Airbnb y Roberto quiere asegurarse de que su casa tiene más críticas que las de Clara. Tenemos que crear un dataframe con las propiedades de ambos. Las id de las casas de Roberto y Clara son 97503 y 90387  respectivamente. Finalmente guardamos este dataframe como excel llamado \"roberto.xls"
   ]
  },
  {
   "cell_type": "code",
   "execution_count": 15,
   "metadata": {
    "id": "lIZ_kTnXJRhr",
    "tags": []
   },
   "outputs": [
    {
     "name": "stdout",
     "output_type": "stream",
     "text": [
      "DataFrame de Roberto y Clara guardado en 'roberto.xlsx'\n"
     ]
    }
   ],
   "source": [
    "# Filtrar las propiedades de Roberto (ID 97503) y Clara (ID 90387)\n",
    "# Filtrar las propiedades de Roberto (ID 97503) y Clara (ID 90387)\n",
    "roberto_clara_df = df_airbnb[df_airbnb['room_id'].isin([97503, 90387])]\n",
    "\n",
    "# Guardar el DataFrame en un archivo Excel llamado \"roberto.xlsx\" usando openpyxl\n",
    "roberto_clara_df.to_excel('roberto.xlsx', index=False, engine='openpyxl')\n",
    "\n",
    "print(\"DataFrame de Roberto y Clara guardado en 'roberto.xlsx'\")"
   ]
  },
  {
   "cell_type": "markdown",
   "metadata": {
    "id": "uLzCBtabJRhr"
   },
   "source": [
    "\n",
    "### Caso 3\n",
    "\n",
    "Diana va a Lisboa a pasar 3 noches y quiere conocer a gente nueva. Tiene un presupuesto de 50€ para su alojamiento. Debemos buscarle las 10 propiedades más baratas, dandole preferencia a aquellas que sean habitaciones compartidas *(room_type == Shared room)*, y para aquellas viviendas compartidas debemos elegir aquellas con mejor puntuación."
   ]
  },
  {
   "cell_type": "code",
   "execution_count": 17,
   "metadata": {
    "id": "Xzg1uKFDJRhs",
    "tags": []
   },
   "outputs": [
    {
     "name": "stdout",
     "output_type": "stream",
     "text": [
      "        room_id    room_type    neighborhood  overall_satisfaction  price\n",
      "9065   14933182  Shared room   Santo António                   5.0   11.0\n",
      "6056   10397682  Shared room    Misericórdia                   5.0   13.0\n",
      "7060   12299998  Shared room         Arroios                   5.0   13.0\n",
      "7066   12305540  Shared room         Arroios                   5.0   13.0\n",
      "8918   14719962  Shared room  Avenidas Novas                   5.0   13.0\n",
      "7034   12268067  Shared room         Arroios                   5.0   16.0\n",
      "9964   16150682  Shared room  Avenidas Novas                   5.0   16.0\n",
      "10723  17096560  Shared room         Areeiro                   5.0   16.0\n",
      "6459   11427995  Shared room    Misericórdia                   5.0   18.0\n",
      "11058  17497074  Shared room         Arroios                   5.0   18.0\n"
     ]
    }
   ],
   "source": [
    "# Filtrar las propiedades adecuadas para Diana\n",
    "filtered_df = df_airbnb[(df_airbnb['price'] <= 50) & (df_airbnb['room_type'] == 'Shared room')]\n",
    "\n",
    "# Ordenar las propiedades por puntuación y precio\n",
    "sorted_df = filtered_df.sort_values(by=['overall_satisfaction', 'price'], ascending=[False, True])\n",
    "\n",
    "# Obtener las 10 propiedades más baratas con mejor puntuación\n",
    "top_10_properties = sorted_df.head(10)\n",
    "\n",
    "# Mostrar las 10 propiedades a Diana\n",
    "print(top_10_properties[['room_id', 'room_type', 'neighborhood', 'overall_satisfaction', 'price']])"
   ]
  },
  {
   "cell_type": "code",
   "execution_count": null,
   "metadata": {
    "id": "SUL3hjq8JRht"
   },
   "outputs": [],
   "source": []
  },
  {
   "cell_type": "markdown",
   "metadata": {
    "id": "ArL1NJCKJRht"
   },
   "source": [
    "## Usando MatPlot"
   ]
  },
  {
   "cell_type": "code",
   "execution_count": 19,
   "metadata": {
    "id": "OXung2vcJRht"
   },
   "outputs": [],
   "source": [
    "import matplotlib.pyplot as plt"
   ]
  },
  {
   "cell_type": "code",
   "execution_count": 20,
   "metadata": {
    "id": "h0mnikWcJRhu"
   },
   "outputs": [],
   "source": [
    "%matplotlib inline"
   ]
  },
  {
   "cell_type": "markdown",
   "metadata": {
    "id": "hXxRZJ_DJRhu"
   },
   "source": [
    "### Caso 1.\n",
    "\n",
    "Realizar un gráfico circular, de la cantidad de tipo de habitaciones `room_type`  "
   ]
  },
  {
   "cell_type": "code",
   "execution_count": 24,
   "metadata": {
    "id": "dH9h2OzwJRhu"
   },
   "outputs": [
    {
     "data": {
      "image/png": "[encoded data removed]",
      "text/plain": [
       "<Figure size 800x600 with 1 Axes>"
      ]
     },
     "metadata": {},
     "output_type": "display_data"
    }
   ],
   "source": [
    "# Crear un gráfico circular\n",
    "plt.figure(figsize=(8, 6))\n",
    "plt.pie(room_type_counts, labels=room_type_counts.index, autopct='%1.1f%%', startangle=140)\n",
    "plt.title('Distribución de Tipos de Habitaciones en Airbnb Lisboa')\n",
    "plt.axis('equal')  # Hace que el gráfico sea un círculo en lugar de una elipse\n",
    "\n",
    "# Mostrar el gráfico\n",
    "plt.show()\n"
   ]
  }
 ],
 "metadata": {
  "colab": {
   "provenance": []
  },
  "kernelspec": {
   "display_name": "Python 3 (ipykernel)",
   "language": "python",
   "name": "python3"
  },
  "language_info": {
   "codemirror_mode": {
    "name": "ipython",
    "version": 3
   },
   "file_extension": ".py",
   "mimetype": "text/x-python",
   "name": "python",
   "nbconvert_exporter": "python",
   "pygments_lexer": "ipython3",
   "version": "3.11.3"
  }
 },
 "nbformat": 4,
 "nbformat_minor": 1
}
